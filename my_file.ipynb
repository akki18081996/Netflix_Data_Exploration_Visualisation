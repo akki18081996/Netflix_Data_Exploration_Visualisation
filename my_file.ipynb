{
    "cells": [
        {
            "cell_type": "markdown",
            "metadata": {},
            "source": [
                "# Netflix Data Analysis\n",
                "## Abstract\n",
                "Netflix is a provider of entertainment services offering TV shows and movies such as original series, documentaries, and feature films through an internet subscription. The company started its operations in 1997 and has transitioned from DVD rentals to video-on-demand services. Over the years, Netflix has collected massive amounts of data from subscribers. In this notebook, we analyze Netflix data to generate insights into the types of content produced and strategies for business growth."
            ]
        },
        {
            "cell_type": "code",
            "execution_count": None,
            "metadata": {},
            "outputs": [],
            "source": [
                "# Import necessary libraries\n",
                "import numpy as np\n",
                "import pandas as pd\n",
                "import matplotlib.pyplot as plt\n",
                "import seaborn as sns\n",
                "sns.set(style='whitegrid')"
            ]
        },
        {
            "cell_type": "markdown",
            "metadata": {},
            "source": [
                "## Loading the Dataset"
            ]
        },
        {
            "cell_type": "code",
            "execution_count": None,
            "metadata": {},
            "outputs": [],
            "source": [
                "# Load the Netflix dataset\n",
                "df = pd.read_csv('netflix.csv')\n",
                "df.head()"
            ]
        },
        {
            "cell_type": "markdown",
            "metadata": {},
            "source": [
                "## Data Exploration"
            ]
        },
        {
            "cell_type": "code",
            "execution_count": None,
            "metadata": {},
            "outputs": [],
            "source": [
                "# Check the shape of the dataset\n",
                "df.shape"
            ]
        },
        {
            "cell_type": "code",
            "execution_count": None,
            "metadata": {},
            "outputs": [],
            "source": [
                "# Check for missing values\n",
                "df.isnull().sum()"
            ]
        },
        {
            "cell_type": "markdown",
            "metadata": {},
            "source": [
                "### Observation:\n",
                "The dataset contains 8807 titles with 12 features. Some columns contain missing values, including 'director', 'country', 'cast', 'date_added', 'rating', and 'duration'."
            ]
        },
        {
            "cell_type": "code",
            "execution_count": None,
            "metadata": {},
            "outputs": [],
            "source": [
                "# Display data types of all attributes\n",
                "df.dtypes"
            ]
        },
        {
            "cell_type": "markdown",
            "metadata": {},
            "source": [
                "## Data Cleaning\n",
                "We'll handle missing values and perform data cleaning."
            ]
        },
        {
            "cell_type": "code",
            "execution_count": None,
            "metadata": {},
            "outputs": [],
            "source": [
                "# Fill missing values\n",
                "df['director'].fillna('Unknown', inplace=True)\n",
                "df['country'].fillna('Unknown', inplace=True)\n",
                "df.dropna(subset=['rating'], inplace=True)\n",
                "# Verify if missing values are handled\n",
                "df.isnull().sum()"
            ]
        },
        {
            "cell_type": "markdown",
            "metadata": {},
            "source": [
                "## Analysis: Top Directors for Movies and TV Shows"
            ]
        },
        {
            "cell_type": "code",
            "execution_count": None,
            "metadata": {},
            "outputs": [],
            "source": [
                "# Group by director and type\n",
                "director_content = df.groupby(['director', 'type']).size().reset_index(name='count')\n",
                "director_content.sort_values(by='count', ascending=False).head(10)"
            ]
        },
        {
            "cell_type": "markdown",
            "metadata": {},
            "source": [
                "## Movies vs TV Shows Distribution"
            ]
        },
        {
            "cell_type": "code",
            "execution_count": None,
            "metadata": {},
            "outputs": [],
            "source": [
                "# Plot the comparison of Movies vs TV Shows\n",
                "plt.figure(figsize=(10,5))\n",
                "sns.countplot(data=df, x='type', palette='Set2')\n",
                "plt.title('Movies vs TV Shows on Netflix')\n",
                "plt.show()"
            ]
        },
        {
            "cell_type": "markdown",
            "metadata": {},
            "source": [
                "## Genre Analysis: Top 4 Genres"
            ]
        },
        {
            "cell_type": "code",
            "execution_count": None,
            "metadata": {},
            "outputs": [],
            "source": [
                "# Top 4 genres\n",
                "top_genres = df['listed_in'].value_counts().head(4)\n",
                "top_genres"
            ]
        },
        {
            "cell_type": "code",
            "execution_count": None,
            "metadata": {},
            "outputs": [],
            "source": [
                "# Plot top 4 genres\n",
                "plt.figure(figsize=(10,5))\n",
                "top_genres.plot(kind='bar', color='purple')\n",
                "plt.title('Top 4 Genres on Netflix')\n",
                "plt.ylabel('Count')\n",
                "plt.show()"
            ]
        },
        {
            "cell_type": "markdown",
            "metadata": {},
            "source": [
                "## Duration Distribution for Movies and TV Shows"
            ]
        },
        {
            "cell_type": "code",
            "execution_count": None,
            "metadata": {},
            "outputs": [],
            "source": [
                "# Convert duration for analysis\n",
                "df['duration'] = df['duration'].str.replace(' min', '').str.replace(' Seasons', '').astype('int', errors='ignore')\n",
                "\n",
                "# Plot duration distribution\n",
                "plt.figure(figsize=(10,5))\n",
                "sns.boxplot(data=df, x='type', y='duration', palette='coolwarm')\n",
                "plt.title('Duration Distribution of Movies and TV Shows')\n",
                "plt.show()"
            ]
        },
        {
            "cell_type": "markdown",
            "metadata": {},
            "source": [
                "## Content Production by Country"
            ]
        },
        {
            "cell_type": "code",
            "execution_count": None,
            "metadata": {},
            "outputs": [],
            "source": [
                "# Analyze content production by country\n",
                "country_content = df['country'].value_counts().head(10)\n",
                "country_content"
            ]
        },
        {
            "cell_type": "code",
            "execution_count": None,
            "metadata": {},
            "outputs": [],
            "source": [
                "# Plot content production by country\n",
                "plt.figure(figsize=(10,5))\n",
                "country_content.plot(kind='bar', color='green')\n",
                "plt.title('Top 10 Countries Producing Content on Netflix')\n",
                "plt.ylabel('Count')\n",
                "plt.show()"
            ]
        },
        {
            "cell_type": "markdown",
            "metadata": {},
            "source": [
                "## Recommendations\n",
                "- Netflix should focus on producing more content for younger audiences (12 to 17 years).\n",
                "- More focus should be placed on TV shows since many viewers prefer TV shows over movies.\n",
                "- Increasing content in genres like horror and comedy could capture a larger audience base.\n",
                "- Expanding content in countries where Netflix has less presence will help grow its global market share."
            ]
        }
    ],
    "metadata": {
        "kernelspec": {
            "display_name": "Python 3",
            "language": "python",
            "name": "python3"
        },
        "language_info": {
            "codemirror_mode": {
                "name": "ipython",
                "version": 3
            },
            "file_extension": ".py",
            "mimetype": "text/x-python",
            "name": "python",
            "nbconvert_exporter": "python",
            "version": "3.8.5"
        }
    },
    "nbformat": 4,
    "nbformat_minor": 4
}
